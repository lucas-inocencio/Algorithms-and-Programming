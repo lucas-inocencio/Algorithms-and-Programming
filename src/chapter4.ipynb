{
 "cells": [
  {
   "cell_type": "markdown",
   "metadata": {},
   "source": [
    "# Chapter 4"
   ]
  },
  {
   "cell_type": "markdown",
   "metadata": {},
   "source": [
    "### Exercise 4-1"
   ]
  },
  {
   "cell_type": "markdown",
   "metadata": {},
   "source": [
    "Download the code in this chapter from http://thinkpython2.com/code/polygon.py.\n",
    "1. Draw a stack diagram that shows the state of the program while executing circle(bob, radius). You can do the arithmetic by hand or add print statements\n",
    "to the code."
   ]
  },
  {
   "cell_type": "code",
   "execution_count": 1,
   "metadata": {},
   "outputs": [],
   "source": [
    "import math\n",
    "import turtle\n",
    "\n",
    "\n",
    "def square(t, length):\n",
    "    for _ in range(4):\n",
    "        t.fd(length)\n",
    "        t.lt(90)\n",
    "\n",
    "\n",
    "def polyline(t, n, length, angle):\n",
    "    for i in range(n):\n",
    "        t.fd(length)\n",
    "        t.lt(angle)\n",
    "\n",
    "\n",
    "def polygon(t, n, length):\n",
    "    angle = 360.0 / n\n",
    "    polyline(t, n, length, angle)\n",
    "\n",
    "\n",
    "def arc(t, r, angle):\n",
    "    arc_length = 2 * math.pi * r * angle / 360\n",
    "    n = int(arc_length / 3) + 1\n",
    "    step_length = arc_length / n\n",
    "    step_angle = float(angle) / n\n",
    "    polyline(t, n, step_length, step_angle)\n",
    "\n",
    "\n",
    "def circle(t, r):\n",
    "    arc(t, r, 360)\n",
    "\n",
    "\n",
    "bob = turtle.Turtle()\n",
    "radius = 5\n",
    "circle(bob, radius)"
   ]
  },
  {
   "cell_type": "markdown",
   "metadata": {},
   "source": [
    "|-----------|\n",
    "|   angle   |\n",
    "|-----------|\n",
    "|   length  |\n",
    "|-----------|\n",
    "|     n     |\n",
    "|-----------|\n",
    "|     t     |\n",
    "|-----------|\n",
    "|  polygon  |\n",
    "|-----------|\n",
    "|   angle   |\n",
    "|-----------|\n",
    "|     r     |\n",
    "|-----------|\n",
    "|     t     |\n",
    "|-----------|\n",
    "|    arc    |\n",
    "|-----------|\n",
    "|   radius  |\n",
    "|-----------|\n",
    "|    bob    |\n",
    "|-----------|\n",
    "|   circle  |\n",
    "|-----------|"
   ]
  },
  {
   "cell_type": "markdown",
   "metadata": {},
   "source": [
    "2. The version of arc in “Refactoring” on page 41 is not very accurate because the\n",
    "linear approximation of the circle is always outside the true circle. As a result, the\n",
    "Turtle ends up a few pixels away from the correct destination. My solution shows\n",
    "a way to reduce the effect of this error. Read the code and see if it makes sense to\n",
    "you. If you draw a diagram, you might see how it works.\n",
    "\n",
    "Overall, the code seems to make sense and provides a simple way to draw arcs with a turtle."
   ]
  },
  {
   "cell_type": "markdown",
   "metadata": {},
   "source": [
    "### Exercise 4-2"
   ]
  },
  {
   "cell_type": "markdown",
   "metadata": {},
   "source": [
    "Write an appropriately general set of functions that can draw flowers as in Figure 4-1."
   ]
  },
  {
   "cell_type": "code",
   "execution_count": 2,
   "metadata": {},
   "outputs": [],
   "source": [
    "def petal(t, r, angle):\n",
    "    \"\"\"Draws a petal using two arcs.\n",
    "    t: Turtle\n",
    "    r: radius of the arcs\n",
    "    angle: angle (degrees) that subtends the arcs\n",
    "    \"\"\"\n",
    "    for i in range(2):\n",
    "        arc(t, r, angle)\n",
    "        t.lt(180-angle)\n",
    "\n",
    "\n",
    "def flower(t, n, r, angle):\n",
    "    \"\"\"Draws a flower with n petals.\n",
    "    t: Turtle\n",
    "    n: number of petals\n",
    "    r: radius of the arcs\n",
    "    angle: angle (degrees) that subtends the arcs\n",
    "    \"\"\"\n",
    "    for i in range(n):\n",
    "        petal(t, r, angle)\n",
    "        t.lt(360.0/n)\n",
    "\n",
    "\n",
    "def move(t, length):\n",
    "    \"\"\"Move Turtle (t) forward (length) units without leaving a trail.\n",
    "    Leaves the pen down.\n",
    "    \"\"\"\n",
    "    t.pu()\n",
    "    t.fd(length)\n",
    "    t.pd()\n",
    "\n",
    "\n",
    "move(bob, -100)\n",
    "flower(bob, 7, 60.0, 60.0)\n",
    "\n",
    "move(bob, 100)\n",
    "flower(bob, 10, 40.0, 80.0)\n",
    "\n",
    "move(bob, 100)\n",
    "flower(bob, 20, 140.0, 20.0)"
   ]
  },
  {
   "cell_type": "markdown",
   "metadata": {},
   "source": [
    "### Exercise 4-3"
   ]
  },
  {
   "cell_type": "markdown",
   "metadata": {},
   "source": [
    "Write an appropriately general set of functions that can draw shapes as in Figure 4-2."
   ]
  },
  {
   "cell_type": "code",
   "execution_count": 3,
   "metadata": {},
   "outputs": [],
   "source": [
    "def draw_pie(t, n, r):\n",
    "    \"\"\"Draws a pie, then moves into position to the right.\n",
    "    t: Turtle\n",
    "    n: number of segments\n",
    "    r: length of the radial spokes\n",
    "    \"\"\"\n",
    "    polypie(t, n, r)\n",
    "    t.pu()\n",
    "    t.fd(r*2 + 10)\n",
    "    t.pd()\n",
    "\n",
    "\n",
    "def polypie(t, n, r):\n",
    "    \"\"\"Draws a pie divided into radial segments.\n",
    "    t: Turtle\n",
    "    n: number of segments\n",
    "    r: length of the radial spokes\n",
    "    \"\"\"\n",
    "    angle = 360.0 / n\n",
    "    for i in range(n):\n",
    "        isosceles(t, r, angle/2)\n",
    "        t.lt(angle)\n",
    "\n",
    "\n",
    "def isosceles(t, r, angle):\n",
    "    \"\"\"Draws an icosceles triangle.\n",
    "    The turtle starts and ends at the peak, facing the middle of the base.\n",
    "    t: Turtle\n",
    "    r: length of the equal legs\n",
    "    angle: half peak angle in degrees\n",
    "    \"\"\"\n",
    "    y = r * math.sin(angle * math.pi / 180)\n",
    "\n",
    "    t.rt(angle)\n",
    "    t.fd(r)\n",
    "    t.lt(90+angle)\n",
    "    t.fd(2*y)\n",
    "    t.lt(90+angle)\n",
    "    t.fd(r)\n",
    "    t.lt(180-angle)\n",
    "\n",
    "\n",
    "bob.pu()\n",
    "bob.bk(130)\n",
    "bob.pd()\n",
    "\n",
    "size = 40\n",
    "draw_pie(bob, 5, size)\n",
    "draw_pie(bob, 6, size)\n",
    "draw_pie(bob, 7, size)\n",
    "draw_pie(bob, 8, size)\n"
   ]
  },
  {
   "cell_type": "markdown",
   "metadata": {},
   "source": [
    "### Exercise 4-4"
   ]
  },
  {
   "cell_type": "markdown",
   "metadata": {},
   "source": [
    "The letters of the alphabet can be constructed from a moderate number of basic ele‐\n",
    "ments, like vertical and horizontal lines and a few curves. Design an alphabet that can\n",
    "be drawn with a minimal number of basic elements and then write functions that\n",
    "draw the letters.\n",
    "You should write one function for each letter, with names draw_a, draw_b, etc., and\n",
    "put your functions in a file named letters.py. You can download a “turtle type‐\n",
    "writer” from http://thinkpython2.com/code/typewriter.py to help you test your code."
   ]
  },
  {
   "cell_type": "code",
   "execution_count": 4,
   "metadata": {},
   "outputs": [],
   "source": [
    "# To-do"
   ]
  },
  {
   "cell_type": "markdown",
   "metadata": {},
   "source": [
    "### Exercise 4-5"
   ]
  },
  {
   "cell_type": "markdown",
   "metadata": {},
   "source": [
    "Read about spirals at http://en.wikipedia.org/wiki/Spiral; then write a program that\n",
    "draws an Archimedian spiral (or one of the other kinds)."
   ]
  },
  {
   "cell_type": "code",
   "execution_count": 5,
   "metadata": {},
   "outputs": [
    {
     "ename": "",
     "evalue": "",
     "output_type": "error",
     "traceback": [
      "\u001b[1;31mThe Kernel crashed while executing code in the current cell or a previous cell. \n",
      "\u001b[1;31mPlease review the code in the cell(s) to identify a possible cause of the failure. \n",
      "\u001b[1;31mClick <a href='https://aka.ms/vscodeJupyterKernelCrash'>here</a> for more info. \n",
      "\u001b[1;31mView Jupyter <a href='command:jupyter.viewOutput'>log</a> for further details."
     ]
    }
   ],
   "source": [
    "def draw_spiral(t, n, length=3, a=0.1, b=0.0002):\n",
    "    \"\"\"Draws an Archimedian spiral starting at the origin.\n",
    "    Args:\n",
    "      n: how many line segments to draw\n",
    "      length: how long each segment is\n",
    "      a: how loose the initial spiral starts out (larger is looser)\n",
    "      b: how loosly coiled the spiral is (larger is looser)\n",
    "    http://en.wikipedia.org/wiki/Spiral\n",
    "    \"\"\"\n",
    "    theta = 0.0\n",
    "\n",
    "    for i in range(n):\n",
    "        t.fd(length)\n",
    "        dtheta = 1 / (a + b * theta)\n",
    "\n",
    "        t.lt(dtheta)\n",
    "        theta += dtheta\n",
    "\n",
    "\n",
    "draw_spiral(bob, n=1000)\n"
   ]
  }
 ],
 "metadata": {
  "kernelspec": {
   "display_name": "Python 3",
   "language": "python",
   "name": "python3"
  },
  "language_info": {
   "codemirror_mode": {
    "name": "ipython",
    "version": 3
   },
   "file_extension": ".py",
   "mimetype": "text/x-python",
   "name": "python",
   "nbconvert_exporter": "python",
   "pygments_lexer": "ipython3",
   "version": "3.12.1"
  }
 },
 "nbformat": 4,
 "nbformat_minor": 2
}

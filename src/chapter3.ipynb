{
 "cells": [
  {
   "cell_type": "markdown",
   "metadata": {},
   "source": [
    "# Chapter 3"
   ]
  },
  {
   "cell_type": "markdown",
   "metadata": {},
   "source": [
    "## Exercise 3-1"
   ]
  },
  {
   "cell_type": "markdown",
   "metadata": {},
   "source": [
    "Write a function named right_justify that takes a string named s as a parameter and prints the string with enough leading spaces so that the last letter of the string is in column 70 of the display.\n",
    "\n",
    "Hint: Use string concatenation and repetition. Also, Python provides a built-in function called len that returns the length of a string, so the value of len('monty') is 5."
   ]
  },
  {
   "cell_type": "code",
   "execution_count": 1,
   "metadata": {},
   "outputs": [
    {
     "name": "stdout",
     "output_type": "stream",
     "text": [
      "                                                                 monty\n"
     ]
    }
   ],
   "source": [
    "def right_justify(s):\n",
    "    print(\" \" * (70 - len(s)) + s)\n",
    "    \n",
    "right_justify('monty')"
   ]
  },
  {
   "cell_type": "markdown",
   "metadata": {},
   "source": [
    "### Exercise 3-2"
   ]
  },
  {
   "cell_type": "markdown",
   "metadata": {},
   "source": [
    "A function object is a value you can assign to a variable or pass as an argument. For\n",
    "example, do_twice is a function that takes a function object as an argument and calls\n",
    "it twice:"
   ]
  },
  {
   "cell_type": "code",
   "execution_count": 2,
   "metadata": {},
   "outputs": [],
   "source": [
    "def do_twice(f):\n",
    "    f()\n",
    "    f()"
   ]
  },
  {
   "cell_type": "markdown",
   "metadata": {},
   "source": [
    "Here’s an example that uses do_twice to call a function named print_spam twice:"
   ]
  },
  {
   "cell_type": "code",
   "execution_count": 3,
   "metadata": {},
   "outputs": [
    {
     "name": "stdout",
     "output_type": "stream",
     "text": [
      "spam\n",
      "spam\n"
     ]
    }
   ],
   "source": [
    "def print_spam():\n",
    "    print('spam')\n",
    "    \n",
    "do_twice(print_spam)"
   ]
  },
  {
   "cell_type": "markdown",
   "metadata": {},
   "source": [
    "1. Type this example into a cell and test it.\n",
    "2. Modify do_twice so that it takes two arguments, a function object and a value,\n",
    "and calls the function twice, passing the value as an argument.\n",
    "3. Copy the definition of print_twice from earlier in this chapter to your script.\n",
    "4. Use the modified version of do_twice to call print_twice twice, passing 'spam'\n",
    "as an argument.\n"
   ]
  },
  {
   "cell_type": "code",
   "execution_count": 4,
   "metadata": {},
   "outputs": [
    {
     "name": "stdout",
     "output_type": "stream",
     "text": [
      "Spam\n",
      "Spam\n"
     ]
    }
   ],
   "source": [
    "def do_twice(f, v):\n",
    "    f(v)\n",
    "    f(v)\n",
    "\n",
    "\n",
    "def print_twice(bruce):\n",
    "    print(bruce)\n",
    "\n",
    "\n",
    "do_twice(print_twice, \"Spam\")"
   ]
  },
  {
   "cell_type": "markdown",
   "metadata": {},
   "source": [
    "5. Define a new function called do_four that takes a function object and a value and\n",
    "calls the function four times, passing the value as a parameter. There should be\n",
    "only two statements in the body of this function, not four."
   ]
  },
  {
   "cell_type": "code",
   "execution_count": 5,
   "metadata": {},
   "outputs": [
    {
     "name": "stdout",
     "output_type": "stream",
     "text": [
      "Spam\n",
      "Spam\n",
      "Spam\n",
      "Spam\n"
     ]
    }
   ],
   "source": [
    "def do_four(f, v):\n",
    "    do_twice(f, v)\n",
    "    do_twice(f, v)\n",
    "\n",
    "\n",
    "do_four(print_twice, 'Spam')"
   ]
  },
  {
   "cell_type": "markdown",
   "metadata": {},
   "source": [
    "### Exercise 3-3"
   ]
  },
  {
   "cell_type": "markdown",
   "metadata": {},
   "source": [
    "Note: This exercise should be done using only the statements and other features we\n",
    "have learned so far.\n",
    "1. Write a function that draws a grid like the following:\n",
    "Hint: to print more than one value on a line, you can print a comma-separated\n",
    "sequence of values:"
   ]
  },
  {
   "cell_type": "code",
   "execution_count": 6,
   "metadata": {},
   "outputs": [
    {
     "name": "stdout",
     "output_type": "stream",
     "text": [
      "+ -\n"
     ]
    }
   ],
   "source": [
    "\"\"\"\n",
    "+ - - - - + - - - - +\n",
    "|         |         |\n",
    "|         |         |\n",
    "|         |         |\n",
    "+ - - - - + - - - - +\n",
    "|         |         |\n",
    "|         |         |\n",
    "|         |         |\n",
    "|         |         |\n",
    "+ - - - - + - - - - +\n",
    "\"\"\"\n",
    "\n",
    "print('+', '-')"
   ]
  },
  {
   "cell_type": "markdown",
   "metadata": {},
   "source": [
    "By default, print advances to the next line, but you can override that behavior\n",
    "and put a space at the end, like this:"
   ]
  },
  {
   "cell_type": "code",
   "execution_count": 7,
   "metadata": {},
   "outputs": [
    {
     "name": "stdout",
     "output_type": "stream",
     "text": [
      "+ -\n"
     ]
    }
   ],
   "source": [
    "print('+', end=' ')\n",
    "print('-')"
   ]
  },
  {
   "cell_type": "markdown",
   "metadata": {},
   "source": [
    "The output of these statements is '+ -'.\n",
    "A print statement with no argument ends the current line and goes to the next\n",
    "line."
   ]
  },
  {
   "cell_type": "code",
   "execution_count": 8,
   "metadata": {},
   "outputs": [
    {
     "name": "stdout",
     "output_type": "stream",
     "text": [
      "+ -  -  -  - + -  -  -  - +\n",
      "|            |            |\n",
      "|            |            |\n",
      "|            |            |\n",
      "|            |            |\n",
      "+ -  -  -  - + -  -  -  - +\n",
      "|            |            |\n",
      "|            |            |\n",
      "|            |            |\n",
      "|            |            |\n",
      "+ -  -  -  - + -  -  -  - +\n"
     ]
    }
   ],
   "source": [
    "def draw_subgrid(none):\n",
    "    row = ('+' + ' - ' * 4) * 2 + '+'\n",
    "    column = ('|' + ' ' * 12) * 2 + '|'\n",
    "    print(row)\n",
    "    do_four(print, column)\n",
    "\n",
    "\n",
    "def draw_grid():\n",
    "    row = ('+' + ' - ' * 4) * 2 + '+'\n",
    "    do_twice(draw_subgrid, None)\n",
    "    print(row)\n",
    "\n",
    "\n",
    "draw_grid()"
   ]
  },
  {
   "cell_type": "markdown",
   "metadata": {},
   "source": [
    "2. Write a function that draws a similar grid with four rows and four columns."
   ]
  },
  {
   "cell_type": "code",
   "execution_count": 9,
   "metadata": {},
   "outputs": [
    {
     "name": "stdout",
     "output_type": "stream",
     "text": [
      "+ -  -  -  - + -  -  -  - + -  -  -  - + -  -  -  - +\n",
      "|            |            |            |            |\n",
      "|            |            |            |            |\n",
      "|            |            |            |            |\n",
      "|            |            |            |            |\n",
      "+ -  -  -  - + -  -  -  - + -  -  -  - + -  -  -  - +\n",
      "|            |            |            |            |\n",
      "|            |            |            |            |\n",
      "|            |            |            |            |\n",
      "|            |            |            |            |\n",
      "+ -  -  -  - + -  -  -  - + -  -  -  - + -  -  -  - +\n",
      "|            |            |            |            |\n",
      "|            |            |            |            |\n",
      "|            |            |            |            |\n",
      "|            |            |            |            |\n",
      "+ -  -  -  - + -  -  -  - + -  -  -  - + -  -  -  - +\n",
      "|            |            |            |            |\n",
      "|            |            |            |            |\n",
      "|            |            |            |            |\n",
      "|            |            |            |            |\n",
      "+ -  -  -  - + -  -  -  - + -  -  -  - + -  -  -  - +\n"
     ]
    }
   ],
   "source": [
    "def draw_subgrid(none):\n",
    "    row = ('+' + ' - ' * 4) * 4 + '+'\n",
    "    column = ('|' + ' ' * 12) * 4 + '|'\n",
    "    print(row)\n",
    "    do_four(print, column)\n",
    "\n",
    "def draw_grid():\n",
    "    row = ('+' + ' - ' * 4) * 4 + '+'\n",
    "    do_twice(draw_subgrid, None)\n",
    "    do_twice(draw_subgrid, None)\n",
    "    print(row)\n",
    "\n",
    "\n",
    "draw_grid()"
   ]
  }
 ],
 "metadata": {
  "kernelspec": {
   "display_name": "Python 3",
   "language": "python",
   "name": "python3"
  },
  "language_info": {
   "codemirror_mode": {
    "name": "ipython",
    "version": 3
   },
   "file_extension": ".py",
   "mimetype": "text/x-python",
   "name": "python",
   "nbconvert_exporter": "python",
   "pygments_lexer": "ipython3",
   "version": "3.12.1"
  }
 },
 "nbformat": 4,
 "nbformat_minor": 2
}
